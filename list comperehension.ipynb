{
 "cells": [
  {
   "cell_type": "code",
   "execution_count": 1,
   "id": "fd13dcdf",
   "metadata": {},
   "outputs": [
    {
     "name": "stdout",
     "output_type": "stream",
     "text": [
      "[1]\n",
      "[1, 2]\n",
      "[1, 2, 3]\n",
      "[1, 2, 3, 4]\n",
      "[1, 2, 3, 4, 5]\n",
      "[1, 2, 3, 4, 5, 6]\n",
      "[1, 2, 3, 4, 5, 6, 7]\n",
      "[1, 2, 3, 4, 5, 6, 7, 8]\n",
      "[1, 2, 3, 4, 5, 6, 7, 8, 9]\n"
     ]
    }
   ],
   "source": [
    "liste=[1,2,3,4,5,6,7,8,9]\n",
    "liste1=list()\n",
    "for i in liste:\n",
    "    liste1.append(i)\n",
    "    print(liste1)"
   ]
  },
  {
   "cell_type": "code",
   "execution_count": 2,
   "id": "ffeae776",
   "metadata": {},
   "outputs": [
    {
     "name": "stdout",
     "output_type": "stream",
     "text": [
      "[1, 2, 3, 4, 5, 6]\n"
     ]
    }
   ],
   "source": [
    "liste2=[1,2,3,4,5,6]\n",
    "liste3=[i for i in liste2]\n",
    "print(liste3)"
   ]
  },
  {
   "cell_type": "code",
   "execution_count": 3,
   "id": "68f24549",
   "metadata": {},
   "outputs": [
    {
     "name": "stdout",
     "output_type": "stream",
     "text": [
      "[1, 8, 27, 64, 125, 216]\n"
     ]
    }
   ],
   "source": [
    "liste2=[1,2,3,4,5,6]\n",
    "liste3=[i**3 for i in liste2]\n",
    "print(liste3)"
   ]
  },
  {
   "cell_type": "code",
   "execution_count": 4,
   "id": "01c772bc",
   "metadata": {},
   "outputs": [
    {
     "name": "stdout",
     "output_type": "stream",
     "text": [
      "[1, 8, 1024, 279936, 134217728]\n"
     ]
    }
   ],
   "source": [
    "list1=[(1,2),(2,3),(4,5),(6,7),(8,9)]\n",
    "list2=[i**j for i,j in list1]\n",
    "print(list2)"
   ]
  },
  {
   "cell_type": "code",
   "execution_count": 6,
   "id": "1ae1957b",
   "metadata": {},
   "outputs": [
    {
     "name": "stdout",
     "output_type": "stream",
     "text": [
      "['ccc', 'iii', 'hhh', 'aaa', 'ttt']\n"
     ]
    }
   ],
   "source": [
    "c=\"cihat\"\n",
    "ç=[i*3 for i in c]\n",
    "print(ç)"
   ]
  },
  {
   "cell_type": "code",
   "execution_count": 12,
   "id": "8aab6fbc",
   "metadata": {},
   "outputs": [
    {
     "name": "stdout",
     "output_type": "stream",
     "text": [
      "['a', 'b', 'c', 1, 2, 3, 'd', 'e', 'f', 4, 5, 6]\n"
     ]
    }
   ],
   "source": [
    "liste11=[[\"a\",\"b\",\"c\"],[1,2,3],[\"d\",\"e\",\"f\"],[4,5,6]]\n",
    "liste12=list()\n",
    "for i in liste11:\n",
    "    for x in i:\n",
    "        liste12.append(x)\n",
    "print(liste12)"
   ]
  },
  {
   "cell_type": "code",
   "execution_count": 14,
   "id": "afd4e46b",
   "metadata": {},
   "outputs": [
    {
     "name": "stdout",
     "output_type": "stream",
     "text": [
      "['a', 'b', 'c', 1, 2, 3, 'd', 'e', 'f', 4, 5, 6]\n"
     ]
    }
   ],
   "source": [
    "liste11=[[\"a\",\"b\",\"c\"],[1,2,3],[\"d\",\"e\",\"f\"],[4,5,6]]\n",
    "liste12=[x for i in liste11 for x in i]\n",
    "print(liste12)"
   ]
  },
  {
   "cell_type": "code",
   "execution_count": null,
   "id": "f1fdf91c",
   "metadata": {},
   "outputs": [],
   "source": []
  }
 ],
 "metadata": {
  "kernelspec": {
   "display_name": "Python 3 (ipykernel)",
   "language": "python",
   "name": "python3"
  },
  "language_info": {
   "codemirror_mode": {
    "name": "ipython",
    "version": 3
   },
   "file_extension": ".py",
   "mimetype": "text/x-python",
   "name": "python",
   "nbconvert_exporter": "python",
   "pygments_lexer": "ipython3",
   "version": "3.9.7"
  }
 },
 "nbformat": 4,
 "nbformat_minor": 5
}
