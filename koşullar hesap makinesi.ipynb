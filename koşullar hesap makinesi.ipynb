{
 "cells": [
  {
   "cell_type": "code",
   "execution_count": 3,
   "id": "2f24c40e",
   "metadata": {},
   "outputs": [
    {
     "name": "stdout",
     "output_type": "stream",
     "text": [
      "\n",
      "*******************************\n",
      "HESAP MAKİNESİ\n",
      "*******************\n",
      "1.TOPLAMA İŞLEMİ\n",
      "2.ÇIKARMA İŞLEMİ\n",
      "3.ÇARPMA İŞLEMİ\n",
      "4.BÖLME İŞLEMİ\n",
      "5.ÜSTEL İFADELER\n",
      "********************************\n",
      "\n",
      "lütfen 1. sayıyı giriniz: 44\n",
      "lütfen 2. sayıyı giriniz: 4\n",
      "lütfen bir işlem seçiniz4\n",
      "44.0/4.0=11.0\n"
     ]
    }
   ],
   "source": [
    "print(\"\"\"\n",
    "*******************************\n",
    "HESAP MAKİNESİ\n",
    "*******************\n",
    "1.TOPLAMA İŞLEMİ\n",
    "2.ÇIKARMA İŞLEMİ\n",
    "3.ÇARPMA İŞLEMİ\n",
    "4.BÖLME İŞLEMİ\n",
    "5.ÜSTEL İFADELER\n",
    "********************************\n",
    "\"\"\")\n",
    "a=float(input(\"lütfen 1. sayıyı giriniz: \"))\n",
    "b=float(input(\"lütfen 2. sayıyı giriniz: \"))\n",
    "\n",
    "işlem=input(\"lütfen bir işlem seçiniz\")\n",
    "if işlem==\"1\":\n",
    "    print(\"{}+{}={}\".format(a,b,a+b))\n",
    "elif işlem==\"2\":\n",
    "    print(\"{}-{}={}\".format(a,b,a-b))\n",
    "elif işlem==\"3\":\n",
    "    print(\"{}*{}={}\".format(a,b,a*b))\n",
    "elif işlem==\"4\":\n",
    "    print(\"{}/{}={}\".format(a,b,a/b))\n",
    "elif işlem==\"5\":\n",
    "    print(\"{}^{}={}\".format(a,b,a**b))\n",
    "else:\n",
    "    print(\"geçersiz bir işlem yaptınız\")"
   ]
  },
  {
   "cell_type": "code",
   "execution_count": 11,
   "id": "f4bd2c26",
   "metadata": {},
   "outputs": [
    {
     "name": "stdout",
     "output_type": "stream",
     "text": [
      "a: 45\n",
      "b: 78\n",
      "c: 12\n",
      "en büyük sayı 78.0\n"
     ]
    }
   ],
   "source": [
    "a=float(input(\"a: \"))\n",
    "b=float(input(\"b: \"))\n",
    "c=float(input(\"c: \"))\n",
    "if a>=b and a>=c:\n",
    "    print(\"en büyük sayı\",a)\n",
    "elif b>=c and b>=a:\n",
    "    print(\"en büyük sayı\",b)\n",
    "    \n",
    "elif c>=a and c>=b:\n",
    "    print(\"en büyük sayı\",c)\n",
    "else:\n",
    "    print(\"geçersiz işlem\")\n",
    "\n",
    "    \n",
    "    "
   ]
  },
  {
   "cell_type": "code",
   "execution_count": 4,
   "id": "3bc41a13",
   "metadata": {},
   "outputs": [
    {
     "name": "stdout",
     "output_type": "stream",
     "text": [
      "***************************\n",
      "      şekil sorgulama ekranı\n",
      "      **********\n",
      "      dörtgen\n",
      "      üçgen\n",
      "      ***************************\n",
      "lütfen sorgulatmak istediğiniz şekli yazınızdörtgen\n",
      "lütfen kenarları sırasıyla giriniz\n",
      "1.kenar: 4\n",
      "1.kenar: 4\n",
      "1.kenar: 4\n",
      "1.kenar: 4\n",
      "kare\n",
      "geçersiz şekil\n"
     ]
    }
   ],
   "source": [
    "print(\"\"\"***************************\n",
    "      şekil sorgulama ekranı\n",
    "      **********\n",
    "      dörtgen\n",
    "      üçgen\n",
    "      ***************************\"\"\")\n",
    "şekil=input(\"lütfen sorgulatmak istediğiniz şekli yazınız\")\n",
    "if şekil==\"dörtgen\":\n",
    "    print(\"lütfen kenarları sırasıyla giriniz\")\n",
    "    a=float(input(\"1.kenar: \"))\n",
    "    b=float(input(\"2.kenar: \"))\n",
    "    c=float(input(\"3.kenar: \"))\n",
    "    d=float(input(\"4.kenar: \"))\n",
    "    if a==b and a==c and a==d:\n",
    "        print(\"kare\")\n",
    "    elif a==c and b==d:\n",
    "        print(\"dikdörtgen\")\n",
    "    else:\n",
    "        print(\"dörtgen\")\n",
    "if şekil==\"üçgen\":\n",
    "    print(\"lütfen kenarları sırasıyla giriniz\")\n",
    "    a=float(input(\"1.kenar: \"))\n",
    "    b=float(input(\"2.kenar: \"))\n",
    "    c=float(input(\"3.kenar: \"))\n",
    "    if(abs(a+b)>c and abs(a+c)>b and abs(b+c)>a):\n",
    "        if a==b and a==c:\n",
    "            print(\"eşkenar üçgen\")\n",
    "        elif ((a==b and a!=c)or (a!=b and a==c)or(a!=b and b==c)):\n",
    "            print(\"ikiz kenar üçgen\")\n",
    "        else:\n",
    "                print(\"çeşitkenar üçgen\")\n",
    "    else:\n",
    "            print(\"bir şekil ifade etmiyor\")\n",
    "else:\n",
    "    print(\"geçersiz şekil\")\n",
    "        \n",
    "   \n",
    "    \n",
    "\n",
    "\n",
    "\n",
    "\n",
    "\n",
    "\n"
   ]
  },
  {
   "cell_type": "code",
   "execution_count": null,
   "id": "765cfe7c",
   "metadata": {},
   "outputs": [],
   "source": []
  }
 ],
 "metadata": {
  "kernelspec": {
   "display_name": "Python 3 (ipykernel)",
   "language": "python",
   "name": "python3"
  },
  "language_info": {
   "codemirror_mode": {
    "name": "ipython",
    "version": 3
   },
   "file_extension": ".py",
   "mimetype": "text/x-python",
   "name": "python",
   "nbconvert_exporter": "python",
   "pygments_lexer": "ipython3",
   "version": "3.9.7"
  }
 },
 "nbformat": 4,
 "nbformat_minor": 5
}
