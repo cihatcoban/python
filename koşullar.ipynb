{
 "cells": [
  {
   "cell_type": "code",
   "execution_count": 5,
   "id": "e9dba318",
   "metadata": {},
   "outputs": [
    {
     "name": "stdout",
     "output_type": "stream",
     "text": [
      "lütfen notunuzu giriniz:\t99\n",
      "a+\n"
     ]
    }
   ],
   "source": [
    "note=float(input(\"lütfen notunuzu giriniz:\\t\"))\n",
    "if 95<=note:\n",
    "    print(\"a+\")\n",
    "elif 90<=note:\n",
    "    print(\"a\")\n",
    "elif 85<=note:\n",
    "    print(\"a-\")\n",
    "elif 80<=note:\n",
    "    print(\"b+\")\n",
    "elif 75<=note:\n",
    "    print(\"b\")\n",
    "elif 70<=note:\n",
    "    print(\"b-\")\n",
    "elif 65<=note:\n",
    "    print(\"c+\")\n",
    "elif 60<=note:\n",
    "    print(\"c\")\n",
    "elif 55<=note:\n",
    "    print(\"c-\")\n",
    "elif 50<=note:\n",
    "    print(\"d\")\n",
    "else:\n",
    "    print(\"ff\")"
   ]
  },
  {
   "cell_type": "code",
   "execution_count": null,
   "id": "ca896736",
   "metadata": {},
   "outputs": [],
   "source": []
  }
 ],
 "metadata": {
  "kernelspec": {
   "display_name": "Python 3 (ipykernel)",
   "language": "python",
   "name": "python3"
  },
  "language_info": {
   "codemirror_mode": {
    "name": "ipython",
    "version": 3
   },
   "file_extension": ".py",
   "mimetype": "text/x-python",
   "name": "python",
   "nbconvert_exporter": "python",
   "pygments_lexer": "ipython3",
   "version": "3.9.7"
  }
 },
 "nbformat": 4,
 "nbformat_minor": 5
}
